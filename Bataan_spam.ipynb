{
 "cells": [
  {
   "cell_type": "code",
   "execution_count": 1,
   "id": "17c11d44",
   "metadata": {},
   "outputs": [
    {
     "name": "stdout",
     "output_type": "stream",
     "text": [
      "  label                                               text\n",
      "0   ham  Go until jurong point, crazy.. Available only ...\n",
      "1   ham                      Ok lar... Joking wif u oni...\n",
      "2  spam  Free entry in 2 a wkly comp to win FA Cup fina...\n",
      "3   ham  U dun say so early hor... U c already then say...\n",
      "4   ham  Nah I don't think he goes to usf, he lives aro...\n"
     ]
    }
   ],
   "source": [
    "import numpy as np # linear algebra\n",
    "import pandas as pd # data processing, CSV file I/O (e.g. pd.read_csv)\n",
    "data = pd.read_csv('spam.csv',encoding='latin-1')\n",
    "\n",
    "data = data.drop([\"Unnamed: 2\", \"Unnamed: 3\", \"Unnamed: 4\"], axis=1)\n",
    "data = data.rename(columns={\"v1\":'label', \"v2\":'text'})\n",
    "print(data.head())\n",
    "tags = data[\"label\"]\n",
    "texts = data[\"text\"]"
   ]
  },
  {
   "cell_type": "markdown",
   "id": "b202261a",
   "metadata": {},
   "source": [
    "### To do: develop an accurate simple neural network model for spam classification (no LSTM, CNN, etc.)"
   ]
  },
  {
   "cell_type": "code",
   "execution_count": 2,
   "id": "daad7254",
   "metadata": {},
   "outputs": [
    {
     "data": {
      "text/plain": [
       "label    0\n",
       "text     0\n",
       "dtype: int64"
      ]
     },
     "execution_count": 2,
     "metadata": {},
     "output_type": "execute_result"
    }
   ],
   "source": [
    "data.isnull().sum()"
   ]
  },
  {
   "cell_type": "code",
   "execution_count": 3,
   "id": "81ed1ef3",
   "metadata": {},
   "outputs": [
    {
     "data": {
      "text/plain": [
       "ham     4825\n",
       "spam     747\n",
       "Name: label, dtype: int64"
      ]
     },
     "execution_count": 3,
     "metadata": {},
     "output_type": "execute_result"
    }
   ],
   "source": [
    "data.label.value_counts()"
   ]
  },
  {
   "cell_type": "code",
   "execution_count": 4,
   "id": "5e1b507f",
   "metadata": {},
   "outputs": [],
   "source": [
    "tags = tags.map( {'spam': 1, 'ham': 0} ).astype(int)"
   ]
  },
  {
   "cell_type": "code",
   "execution_count": 5,
   "id": "9cfc3204",
   "metadata": {},
   "outputs": [],
   "source": [
    "X= data['text']\n",
    "y=tags"
   ]
  },
  {
   "cell_type": "code",
   "execution_count": 6,
   "id": "97d20eef",
   "metadata": {},
   "outputs": [
    {
     "data": {
      "text/plain": [
       "0       Go until jurong point, crazy.. Available only ...\n",
       "1                           Ok lar... Joking wif u oni...\n",
       "2       Free entry in 2 a wkly comp to win FA Cup fina...\n",
       "3       U dun say so early hor... U c already then say...\n",
       "4       Nah I don't think he goes to usf, he lives aro...\n",
       "                              ...                        \n",
       "5567    This is the 2nd time we have tried 2 contact u...\n",
       "5568                Will Ì_ b going to esplanade fr home?\n",
       "5569    Pity, * was in mood for that. So...any other s...\n",
       "5570    The guy did some bitching but I acted like i'd...\n",
       "5571                           Rofl. Its true to its name\n",
       "Name: text, Length: 5572, dtype: object"
      ]
     },
     "execution_count": 6,
     "metadata": {},
     "output_type": "execute_result"
    }
   ],
   "source": [
    "X"
   ]
  },
  {
   "cell_type": "code",
   "execution_count": 7,
   "id": "2fc31eec",
   "metadata": {},
   "outputs": [
    {
     "data": {
      "text/plain": [
       "0       0\n",
       "1       0\n",
       "2       1\n",
       "3       0\n",
       "4       0\n",
       "       ..\n",
       "5567    1\n",
       "5568    0\n",
       "5569    0\n",
       "5570    0\n",
       "5571    0\n",
       "Name: label, Length: 5572, dtype: int32"
      ]
     },
     "execution_count": 7,
     "metadata": {},
     "output_type": "execute_result"
    }
   ],
   "source": [
    "y"
   ]
  },
  {
   "cell_type": "code",
   "execution_count": 8,
   "id": "8d2e57e3",
   "metadata": {},
   "outputs": [],
   "source": [
    "texts_len=[len(data.loc[i]['text'].split()) for i in range(0, len(data))]"
   ]
  },
  {
   "cell_type": "code",
   "execution_count": 9,
   "id": "fd927a35",
   "metadata": {},
   "outputs": [
    {
     "name": "stdout",
     "output_type": "stream",
     "text": [
      "The total words in the dataset is: 86335 words\n",
      "Average words: 15\n"
     ]
    }
   ],
   "source": [
    "#computing for the total words and average in the dataset\n",
    "Words_dataset= np.sum(texts_len) \n",
    "Words_average= int(np.mean(texts_len))\n",
    "print(\"The total words in the dataset is:\",Words_dataset,\"words\")\n",
    "print(\"Average words:\",Words_average)"
   ]
  },
  {
   "cell_type": "code",
   "execution_count": 10,
   "id": "f7a9644e",
   "metadata": {},
   "outputs": [],
   "source": [
    "import sklearn\n",
    "from sklearn.model_selection import train_test_split\n",
    "X=np.asanyarray(texts)\n",
    "y=np.asanyarray(y)\n",
    "X_train, X_test, y_train, y_test = sklearn.model_selection.train_test_split(X,y, test_size=0.2,)"
   ]
  },
  {
   "cell_type": "code",
   "execution_count": 11,
   "id": "8a380dd1",
   "metadata": {},
   "outputs": [],
   "source": [
    "import tensorflow as t\n",
    "from tensorflow import keras\n",
    "from tensorflow.keras import layers\n",
    "texts_new =layers.TextVectorization(max_tokens=Words_dataset,standardize='lower_and_strip_punctuation',output_mode='int',\n",
    "output_sequence_length=Words_average)\n",
    "texts_new.adapt(X_train)"
   ]
  },
  {
   "cell_type": "code",
   "execution_count": 12,
   "id": "f0c55c8a",
   "metadata": {},
   "outputs": [],
   "source": [
    "embedding_layer = layers.Embedding(input_dim=Words_dataset,output_dim=128,embeddings_initializer='uniform',\n",
    "input_length=Words_average)"
   ]
  },
  {
   "cell_type": "code",
   "execution_count": 13,
   "id": "8e1eec9d",
   "metadata": {},
   "outputs": [
    {
     "name": "stdout",
     "output_type": "stream",
     "text": [
      "The number of datapoints:  (5572,) (4457,) (1115,)\n"
     ]
    }
   ],
   "source": [
    "print(\"The number of datapoints: \",X.shape,X_train.shape,X_test.shape)"
   ]
  },
  {
   "cell_type": "code",
   "execution_count": 14,
   "id": "6f777a41",
   "metadata": {},
   "outputs": [],
   "source": [
    "#prepare and define the model\n",
    "InputL=layers.Input(shape=(1,), dtype=t.string)\n",
    "VectorL=texts_new(InputL)\n",
    "EmbedL=embedding_layer(VectorL)\n",
    "Global_Ave=layers.GlobalAveragePooling1D()(EmbedL)\n",
    "Flatten_L=layers.Flatten()(Global_Ave)\n",
    "DenseL=layers.Dense(6, activation='relu')(Flatten_L)\n",
    "OutputL=layers.Dense(1, activation='sigmoid')(DenseL)\n",
    "model = keras.Model(InputL, OutputL)"
   ]
  },
  {
   "cell_type": "code",
   "execution_count": 15,
   "id": "971f6441",
   "metadata": {},
   "outputs": [],
   "source": [
    "#Compiling the keras model\n",
    "model.compile(optimizer=keras.optimizers.Adam(),loss=keras.losses.BinaryCrossentropy(label_smoothing=0.5),metrics=['accuracy'])"
   ]
  },
  {
   "cell_type": "code",
   "execution_count": 16,
   "id": "d386a68e",
   "metadata": {},
   "outputs": [
    {
     "name": "stdout",
     "output_type": "stream",
     "text": [
      "Epoch 1/100\n",
      "9/9 [==============================] - ETA: 0s - loss: 0.6871 - accuracy: 0.8535WARNING:tensorflow:Your input ran out of data; interrupting training. Make sure that your dataset or generator can generate at least `steps_per_epoch * epochs` batches (in this case, 223 batches). You may need to use the repeat() function when building your dataset.\n",
      "9/9 [==============================] - 4s 321ms/step - loss: 0.6871 - accuracy: 0.8535 - val_loss: 0.6799 - val_accuracy: 0.8816\n",
      "Epoch 2/100\n",
      "9/9 [==============================] - 1s 113ms/step - loss: 0.6735 - accuracy: 0.8961\n",
      "Epoch 3/100\n",
      "9/9 [==============================] - 1s 120ms/step - loss: 0.6579 - accuracy: 0.9165\n",
      "Epoch 4/100\n",
      "9/9 [==============================] - 1s 116ms/step - loss: 0.6404 - accuracy: 0.9282\n",
      "Epoch 5/100\n",
      "9/9 [==============================] - 1s 111ms/step - loss: 0.6220 - accuracy: 0.9396\n",
      "Epoch 6/100\n",
      "9/9 [==============================] - 1s 110ms/step - loss: 0.6046 - accuracy: 0.9515\n",
      "Epoch 7/100\n",
      "9/9 [==============================] - 1s 111ms/step - loss: 0.5907 - accuracy: 0.9605\n",
      "Epoch 8/100\n",
      "9/9 [==============================] - 1s 111ms/step - loss: 0.5819 - accuracy: 0.9650\n",
      "Epoch 9/100\n",
      "9/9 [==============================] - 1s 111ms/step - loss: 0.5771 - accuracy: 0.9740\n",
      "Epoch 10/100\n",
      "9/9 [==============================] - 1s 111ms/step - loss: 0.5741 - accuracy: 0.9821\n",
      "Epoch 11/100\n",
      "9/9 [==============================] - 1s 109ms/step - loss: 0.5721 - accuracy: 0.9847\n",
      "Epoch 12/100\n",
      "9/9 [==============================] - 1s 109ms/step - loss: 0.5706 - accuracy: 0.9863\n",
      "Epoch 13/100\n",
      "9/9 [==============================] - 1s 109ms/step - loss: 0.5696 - accuracy: 0.9870\n",
      "Epoch 14/100\n",
      "9/9 [==============================] - 1s 109ms/step - loss: 0.5688 - accuracy: 0.9892\n",
      "Epoch 15/100\n",
      "9/9 [==============================] - 1s 111ms/step - loss: 0.5681 - accuracy: 0.9899\n",
      "Epoch 16/100\n",
      "9/9 [==============================] - 1s 110ms/step - loss: 0.5676 - accuracy: 0.9910\n",
      "Epoch 17/100\n",
      "9/9 [==============================] - 1s 111ms/step - loss: 0.5671 - accuracy: 0.9919\n",
      "Epoch 18/100\n",
      "9/9 [==============================] - 1s 110ms/step - loss: 0.5667 - accuracy: 0.9924\n",
      "Epoch 19/100\n",
      "9/9 [==============================] - 1s 108ms/step - loss: 0.5664 - accuracy: 0.9935\n",
      "Epoch 20/100\n",
      "9/9 [==============================] - 1s 114ms/step - loss: 0.5660 - accuracy: 0.9942\n",
      "Epoch 21/100\n",
      "9/9 [==============================] - 1s 111ms/step - loss: 0.5658 - accuracy: 0.9951\n",
      "Epoch 22/100\n",
      "9/9 [==============================] - 1s 109ms/step - loss: 0.5655 - accuracy: 0.9957\n",
      "Epoch 23/100\n",
      "9/9 [==============================] - 1s 114ms/step - loss: 0.5653 - accuracy: 0.9960\n",
      "Epoch 24/100\n",
      "9/9 [==============================] - 1s 109ms/step - loss: 0.5651 - accuracy: 0.9964\n",
      "Epoch 25/100\n",
      "9/9 [==============================] - 1s 108ms/step - loss: 0.5649 - accuracy: 0.9969\n",
      "Epoch 26/100\n",
      "9/9 [==============================] - 1s 125ms/step - loss: 0.5647 - accuracy: 0.9969\n",
      "Epoch 27/100\n",
      "9/9 [==============================] - 1s 124ms/step - loss: 0.5646 - accuracy: 0.9971\n",
      "Epoch 28/100\n",
      "9/9 [==============================] - 1s 112ms/step - loss: 0.5644 - accuracy: 0.9971\n",
      "Epoch 29/100\n",
      "9/9 [==============================] - 1s 127ms/step - loss: 0.5643 - accuracy: 0.9980\n",
      "Epoch 30/100\n",
      "9/9 [==============================] - 1s 121ms/step - loss: 0.5642 - accuracy: 0.9980\n",
      "Epoch 31/100\n",
      "9/9 [==============================] - 1s 111ms/step - loss: 0.5641 - accuracy: 0.9982\n",
      "Epoch 32/100\n",
      "9/9 [==============================] - 1s 108ms/step - loss: 0.5640 - accuracy: 0.9982\n",
      "Epoch 33/100\n",
      "9/9 [==============================] - 1s 115ms/step - loss: 0.5639 - accuracy: 0.9982\n",
      "Epoch 34/100\n",
      "9/9 [==============================] - 1s 118ms/step - loss: 0.5638 - accuracy: 0.9982\n",
      "Epoch 35/100\n",
      "9/9 [==============================] - 1s 122ms/step - loss: 0.5637 - accuracy: 0.9982\n",
      "Epoch 36/100\n",
      "9/9 [==============================] - 1s 126ms/step - loss: 0.5636 - accuracy: 0.9984\n",
      "Epoch 37/100\n",
      "9/9 [==============================] - 1s 109ms/step - loss: 0.5635 - accuracy: 0.9987\n",
      "Epoch 38/100\n",
      "9/9 [==============================] - 1s 112ms/step - loss: 0.5635 - accuracy: 0.9989\n",
      "Epoch 39/100\n",
      "9/9 [==============================] - 1s 107ms/step - loss: 0.5634 - accuracy: 0.9989\n",
      "Epoch 40/100\n",
      "9/9 [==============================] - 1s 114ms/step - loss: 0.5634 - accuracy: 0.9989\n",
      "Epoch 41/100\n",
      "9/9 [==============================] - 1s 110ms/step - loss: 0.5633 - accuracy: 0.9989\n",
      "Epoch 42/100\n",
      "9/9 [==============================] - 1s 114ms/step - loss: 0.5632 - accuracy: 0.9991\n",
      "Epoch 43/100\n",
      "9/9 [==============================] - 1s 117ms/step - loss: 0.5632 - accuracy: 0.9991\n",
      "Epoch 44/100\n",
      "9/9 [==============================] - 1s 117ms/step - loss: 0.5631 - accuracy: 0.9991\n",
      "Epoch 45/100\n",
      "9/9 [==============================] - 1s 111ms/step - loss: 0.5631 - accuracy: 0.9991\n",
      "Epoch 46/100\n",
      "9/9 [==============================] - 1s 112ms/step - loss: 0.5631 - accuracy: 0.9991\n",
      "Epoch 47/100\n",
      "9/9 [==============================] - 1s 112ms/step - loss: 0.5630 - accuracy: 0.9991\n",
      "Epoch 48/100\n",
      "9/9 [==============================] - 1s 110ms/step - loss: 0.5630 - accuracy: 0.9991\n",
      "Epoch 49/100\n",
      "9/9 [==============================] - 1s 109ms/step - loss: 0.5630 - accuracy: 0.9991\n",
      "Epoch 50/100\n",
      "9/9 [==============================] - 1s 112ms/step - loss: 0.5629 - accuracy: 0.9991\n",
      "Epoch 51/100\n",
      "9/9 [==============================] - 1s 110ms/step - loss: 0.5629 - accuracy: 0.9991\n",
      "Epoch 52/100\n",
      "9/9 [==============================] - 1s 111ms/step - loss: 0.5629 - accuracy: 0.9991\n",
      "Epoch 53/100\n",
      "9/9 [==============================] - 1s 115ms/step - loss: 0.5628 - accuracy: 0.9991\n",
      "Epoch 54/100\n",
      "9/9 [==============================] - 1s 116ms/step - loss: 0.5628 - accuracy: 0.9993\n",
      "Epoch 55/100\n",
      "9/9 [==============================] - 1s 123ms/step - loss: 0.5628 - accuracy: 0.9996\n",
      "Epoch 56/100\n",
      "9/9 [==============================] - 1s 122ms/step - loss: 0.5628 - accuracy: 0.9996\n",
      "Epoch 57/100\n",
      "9/9 [==============================] - 1s 108ms/step - loss: 0.5627 - accuracy: 0.9996\n",
      "Epoch 58/100\n",
      "9/9 [==============================] - 1s 109ms/step - loss: 0.5627 - accuracy: 0.9998\n",
      "Epoch 59/100\n",
      "9/9 [==============================] - 1s 109ms/step - loss: 0.5627 - accuracy: 0.9998\n",
      "Epoch 60/100\n",
      "9/9 [==============================] - 1s 131ms/step - loss: 0.5627 - accuracy: 0.9998\n",
      "Epoch 61/100\n",
      "9/9 [==============================] - 1s 105ms/step - loss: 0.5627 - accuracy: 0.9998\n",
      "Epoch 62/100\n",
      "9/9 [==============================] - 1s 110ms/step - loss: 0.5627 - accuracy: 0.9998\n",
      "Epoch 63/100\n",
      "9/9 [==============================] - 1s 115ms/step - loss: 0.5626 - accuracy: 0.9998\n",
      "Epoch 64/100\n",
      "9/9 [==============================] - 1s 120ms/step - loss: 0.5626 - accuracy: 0.9998\n",
      "Epoch 65/100\n",
      "9/9 [==============================] - 1s 114ms/step - loss: 0.5626 - accuracy: 0.9998\n",
      "Epoch 66/100\n",
      "9/9 [==============================] - 1s 124ms/step - loss: 0.5626 - accuracy: 0.9998\n",
      "Epoch 67/100\n",
      "9/9 [==============================] - 1s 118ms/step - loss: 0.5626 - accuracy: 0.9998\n",
      "Epoch 68/100\n",
      "9/9 [==============================] - 1s 113ms/step - loss: 0.5626 - accuracy: 0.9998\n",
      "Epoch 69/100\n",
      "9/9 [==============================] - 1s 126ms/step - loss: 0.5626 - accuracy: 0.9998\n",
      "Epoch 70/100\n",
      "9/9 [==============================] - 1s 114ms/step - loss: 0.5626 - accuracy: 0.9998\n",
      "Epoch 71/100\n",
      "9/9 [==============================] - 1s 109ms/step - loss: 0.5626 - accuracy: 0.9998\n",
      "Epoch 72/100\n",
      "9/9 [==============================] - 1s 121ms/step - loss: 0.5626 - accuracy: 0.9998\n",
      "Epoch 73/100\n",
      "9/9 [==============================] - 1s 114ms/step - loss: 0.5625 - accuracy: 0.9998\n",
      "Epoch 74/100\n",
      "9/9 [==============================] - 1s 120ms/step - loss: 0.5625 - accuracy: 0.9998\n",
      "Epoch 75/100\n",
      "9/9 [==============================] - 1s 110ms/step - loss: 0.5625 - accuracy: 0.9998\n",
      "Epoch 76/100\n",
      "9/9 [==============================] - 1s 118ms/step - loss: 0.5625 - accuracy: 0.9998\n",
      "Epoch 77/100\n",
      "9/9 [==============================] - 1s 112ms/step - loss: 0.5625 - accuracy: 0.9998\n",
      "Epoch 78/100\n",
      "9/9 [==============================] - 1s 126ms/step - loss: 0.5625 - accuracy: 0.9998\n",
      "Epoch 79/100\n"
     ]
    },
    {
     "name": "stdout",
     "output_type": "stream",
     "text": [
      "9/9 [==============================] - 1s 126ms/step - loss: 0.5625 - accuracy: 0.9998\n",
      "Epoch 80/100\n",
      "9/9 [==============================] - 1s 109ms/step - loss: 0.5625 - accuracy: 0.9998\n",
      "Epoch 81/100\n",
      "9/9 [==============================] - 1s 112ms/step - loss: 0.5625 - accuracy: 0.9998\n",
      "Epoch 82/100\n",
      "9/9 [==============================] - 1s 114ms/step - loss: 0.5625 - accuracy: 0.9998\n",
      "Epoch 83/100\n",
      "9/9 [==============================] - 1s 113ms/step - loss: 0.5625 - accuracy: 0.9998\n",
      "Epoch 84/100\n",
      "9/9 [==============================] - 1s 113ms/step - loss: 0.5625 - accuracy: 0.9998\n",
      "Epoch 85/100\n",
      "9/9 [==============================] - 1s 113ms/step - loss: 0.5625 - accuracy: 0.9998\n",
      "Epoch 86/100\n",
      "9/9 [==============================] - 1s 111ms/step - loss: 0.5625 - accuracy: 0.9998\n",
      "Epoch 87/100\n",
      "9/9 [==============================] - 1s 118ms/step - loss: 0.5625 - accuracy: 0.9998\n",
      "Epoch 88/100\n",
      "9/9 [==============================] - 1s 121ms/step - loss: 0.5625 - accuracy: 0.9998\n",
      "Epoch 89/100\n",
      "9/9 [==============================] - 1s 114ms/step - loss: 0.5625 - accuracy: 0.9998\n",
      "Epoch 90/100\n",
      "9/9 [==============================] - 1s 111ms/step - loss: 0.5625 - accuracy: 0.9998\n",
      "Epoch 91/100\n",
      "9/9 [==============================] - 1s 114ms/step - loss: 0.5625 - accuracy: 0.9998\n",
      "Epoch 92/100\n",
      "9/9 [==============================] - 1s 112ms/step - loss: 0.5625 - accuracy: 0.9998\n",
      "Epoch 93/100\n",
      "9/9 [==============================] - 1s 133ms/step - loss: 0.5625 - accuracy: 0.9998\n",
      "Epoch 94/100\n",
      "9/9 [==============================] - 1s 116ms/step - loss: 0.5625 - accuracy: 0.9998\n",
      "Epoch 95/100\n",
      "9/9 [==============================] - 1s 129ms/step - loss: 0.5624 - accuracy: 0.9998\n",
      "Epoch 96/100\n",
      "9/9 [==============================] - 1s 120ms/step - loss: 0.5624 - accuracy: 0.9998\n",
      "Epoch 97/100\n",
      "9/9 [==============================] - 1s 128ms/step - loss: 0.5624 - accuracy: 0.9998\n",
      "Epoch 98/100\n",
      "9/9 [==============================] - 1s 109ms/step - loss: 0.5624 - accuracy: 0.9998\n",
      "Epoch 99/100\n",
      "9/9 [==============================] - 1s 109ms/step - loss: 0.5624 - accuracy: 0.9998\n",
      "Epoch 100/100\n",
      "9/9 [==============================] - 1s 106ms/step - loss: 0.5624 - accuracy: 0.9998\n"
     ]
    }
   ],
   "source": [
    "#Training the model\n",
    "history=model.fit(X_train,y_train, epochs=100,batch_size=510, validation_data=(X_test, y_test),validation_steps=int(0.2 * len(X_test)))"
   ]
  },
  {
   "cell_type": "code",
   "execution_count": 17,
   "id": "f220089c",
   "metadata": {},
   "outputs": [
    {
     "name": "stdout",
     "output_type": "stream",
     "text": [
      "Testing Accuracy 0.9776\n"
     ]
    }
   ],
   "source": [
    "#For the Testing Accuracy\n",
    "loss, accuracy = model.evaluate(X_test, y_test, verbose=False)\n",
    "print(\"Testing Accuracy {:.4f}\".format(accuracy))"
   ]
  },
  {
   "cell_type": "code",
   "execution_count": 18,
   "id": "06e36070",
   "metadata": {},
   "outputs": [
    {
     "name": "stdout",
     "output_type": "stream",
     "text": [
      "Testing Loss 0.5724\n"
     ]
    }
   ],
   "source": [
    "#Loss\n",
    "loss, accuracy = model.evaluate(X_test, y_test, verbose=False)\n",
    "print(\"Testing Loss {:.4f}\".format(loss))"
   ]
  },
  {
   "cell_type": "code",
   "execution_count": 19,
   "id": "ef4abc40",
   "metadata": {},
   "outputs": [
    {
     "name": "stdout",
     "output_type": "stream",
     "text": [
      "175/175 [==============================] - 0s 2ms/step\n"
     ]
    }
   ],
   "source": [
    "predictions = (model.predict(X) > 0.5).astype(int)"
   ]
  },
  {
   "cell_type": "code",
   "execution_count": 20,
   "id": "e8037166",
   "metadata": {
    "scrolled": false
   },
   "outputs": [
    {
     "name": "stdout",
     "output_type": "stream",
     "text": [
      "1/1 [==============================] - 0s 147ms/step\n"
     ]
    },
    {
     "data": {
      "text/plain": [
       "array([[0.23032804],\n",
       "       [0.2523236 ],\n",
       "       [0.25337777],\n",
       "       [0.24396652],\n",
       "       [0.25269306],\n",
       "       [0.2908933 ],\n",
       "       [0.25894946],\n",
       "       [0.24868798],\n",
       "       [0.24992892],\n",
       "       [0.249208  ],\n",
       "       [0.7500807 ],\n",
       "       [0.24820088],\n",
       "       [0.24703826],\n",
       "       [0.76228964],\n",
       "       [0.25095218],\n",
       "       [0.25144485],\n",
       "       [0.26805943],\n",
       "       [0.25102705],\n",
       "       [0.24925983],\n",
       "       [0.2485277 ]], dtype=float32)"
      ]
     },
     "execution_count": 20,
     "metadata": {},
     "output_type": "execute_result"
    }
   ],
   "source": [
    "#Predicting teh output csv\n",
    "spam_output=pd.read_csv(\"output_spam.csv\") \n",
    "y_pred = model.predict(spam_output[\"text\"])\n",
    "y_pred"
   ]
  },
  {
   "cell_type": "code",
   "execution_count": null,
   "id": "69906206",
   "metadata": {},
   "outputs": [],
   "source": []
  }
 ],
 "metadata": {
  "kernelspec": {
   "display_name": "Python 3 (ipykernel)",
   "language": "python",
   "name": "python3"
  },
  "language_info": {
   "codemirror_mode": {
    "name": "ipython",
    "version": 3
   },
   "file_extension": ".py",
   "mimetype": "text/x-python",
   "name": "python",
   "nbconvert_exporter": "python",
   "pygments_lexer": "ipython3",
   "version": "3.9.12"
  }
 },
 "nbformat": 4,
 "nbformat_minor": 5
}
